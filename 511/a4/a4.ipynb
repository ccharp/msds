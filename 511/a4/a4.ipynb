{
 "cells": [
  {
   "cell_type": "code",
   "execution_count": null,
   "metadata": {},
   "outputs": [],
   "source": []
  },
  {
   "cell_type": "markdown",
   "metadata": {},
   "source": [
    "# Initial Questions\n",
    "1. What are the downsides of development? \n",
    "\n",
    "# Profile\n",
    "\n",
    "* Where did the data set come from (provenance)? What's in it?\n",
    "    * The data is sourced from multiple locations and aggregated by The World Bank. Seems to mostly come from large, inter-governmental institutions, like the United Nations. I did not investigate tertiary sources in the hierarchy\n",
    "        * Environmental Center \n",
    "        * Food and Agriculture Organization\n",
    "        * Internal Displacement Monitoring Centre. \n",
    "        * World Health Organization\n",
    "    \n",
    "* How big is data set (how many rows? how many variables? file size?).\n",
    "* What types of data variables present? What are the dimensions/type?\n",
    "* What is the overall perceived quality of the data? What's missing? What do you wish it included? Any noticeable outliers? Any other anomalous or curious things that jump out at you?\n"
   ]
  },
  {
   "cell_type": "code",
   "execution_count": null,
   "metadata": {},
   "outputs": [],
   "source": [
    "import pandas as pd\n",
    "import numpy as np\n",
    "import requests\n",
    "\n",
    "pd.set_option('display.max.columns', None)\n",
    "pd.set_option('display.precision', 2)\n",
    "\n",
    "response = requests.get('url.com')\n",
    "response.raise_for_status()\n",
    "with open('path_new_csv.csv', 'wb') as f:\n",
    "    f.write(response.content)\n",
    "    \n",
    "df = pd.read_csv('path_new_csv.csv', na_values='NULL')\n",
    "\n",
    "# Standardize column names: replace spaces with underscores and upper-case with lower-case\n",
    "# df.columns = [c.lower().replace(' ', '_') for c in df.columns]"
   ]
  },
  {
   "cell_type": "markdown",
   "metadata": {},
   "source": [
    "### Variables to consider\n",
    "* Rural population (% of total population)\n",
    "* Urban population (% of total population)\n",
    "* Total greenhouse gas emitions (kt)\n",
    "* Bird, fish, mammal, plant species (threatened)\n",
    "* Forest area (% of land)\n",
    "* Agriculture, forestry, fishing, value added (% of GDP)\n",
    "* GDP per capita (current US$)\n",
    "* industry (including construction), value added (% of GDP)\n",
    "* level of water stress\n",
    "* Livestock production index (2014-2016 = 100)\n",
    "* Cause of death, by communicable diseases and maternal, prenatal and nutrition conditions (% of total)\n",
    "* Cause of death, by non-communicable diseases (% of total)\n",
    "* Internally displaced persons, new displacement associated with disasters (number of cases)\n",
    "* Droughts, floods, extreme temperatures (% of population, average 1990-2009)\n"
   ]
  }
 ],
 "metadata": {
  "language_info": {
   "name": "python"
  },
  "orig_nbformat": 4
 },
 "nbformat": 4,
 "nbformat_minor": 2
}
