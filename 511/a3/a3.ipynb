{
 "cells": [
  {
   "cell_type": "code",
   "execution_count": 16,
   "metadata": {},
   "outputs": [],
   "source": [
    "import pandas as pd\n",
    "import numpy as np\n",
    "import requests\n",
    "\n",
    "pd.set_option('display.max.columns', None)\n",
    "pd.set_option('display.max_rows', None)\n",
    "pd.set_option('display.precision', 2)\n",
    "\n",
    "pd.options.plotting.backend = \"plotly\"\n",
    "\n",
    "\"\"\"\n",
    "response = requests.get('url.com')\n",
    "response.raise_for_status()\n",
    "with open('path_new_csv.csv', 'wb') as f:\n",
    "    f.write(response.content)\n",
    "\"\"\"\n",
    "    \n",
    "df = pd.read_csv('original cars.csv', na_values='0', delimiter=';')\n",
    "\n",
    "# Standardize column names: replace spaces with underscores and upper-case with lower-case\n",
    "df.columns = [c.lower().replace(' ', '_') for c in df.columns]"
   ]
  },
  {
   "cell_type": "code",
   "execution_count": 17,
   "metadata": {},
   "outputs": [
    {
     "data": {
      "text/html": [
       "<div>\n",
       "<style scoped>\n",
       "    .dataframe tbody tr th:only-of-type {\n",
       "        vertical-align: middle;\n",
       "    }\n",
       "\n",
       "    .dataframe tbody tr th {\n",
       "        vertical-align: top;\n",
       "    }\n",
       "\n",
       "    .dataframe thead th {\n",
       "        text-align: right;\n",
       "    }\n",
       "</style>\n",
       "<table border=\"1\" class=\"dataframe\">\n",
       "  <thead>\n",
       "    <tr style=\"text-align: right;\">\n",
       "      <th></th>\n",
       "      <th>car</th>\n",
       "      <th>mpg</th>\n",
       "      <th>cylinders</th>\n",
       "      <th>displacement</th>\n",
       "      <th>horsepower</th>\n",
       "      <th>weight</th>\n",
       "      <th>acceleration</th>\n",
       "      <th>model</th>\n",
       "      <th>origin</th>\n",
       "    </tr>\n",
       "  </thead>\n",
       "  <tbody>\n",
       "    <tr>\n",
       "      <th>0</th>\n",
       "      <td>Chevrolet Chevelle Malibu</td>\n",
       "      <td>18.0</td>\n",
       "      <td>8</td>\n",
       "      <td>307.0</td>\n",
       "      <td>130.0</td>\n",
       "      <td>3504.0</td>\n",
       "      <td>12.0</td>\n",
       "      <td>70</td>\n",
       "      <td>US</td>\n",
       "    </tr>\n",
       "    <tr>\n",
       "      <th>1</th>\n",
       "      <td>Buick Skylark 320</td>\n",
       "      <td>15.0</td>\n",
       "      <td>8</td>\n",
       "      <td>350.0</td>\n",
       "      <td>165.0</td>\n",
       "      <td>3693.0</td>\n",
       "      <td>11.5</td>\n",
       "      <td>70</td>\n",
       "      <td>US</td>\n",
       "    </tr>\n",
       "    <tr>\n",
       "      <th>2</th>\n",
       "      <td>Plymouth Satellite</td>\n",
       "      <td>18.0</td>\n",
       "      <td>8</td>\n",
       "      <td>318.0</td>\n",
       "      <td>150.0</td>\n",
       "      <td>3436.0</td>\n",
       "      <td>11.0</td>\n",
       "      <td>70</td>\n",
       "      <td>US</td>\n",
       "    </tr>\n",
       "    <tr>\n",
       "      <th>3</th>\n",
       "      <td>AMC Rebel SST</td>\n",
       "      <td>16.0</td>\n",
       "      <td>8</td>\n",
       "      <td>304.0</td>\n",
       "      <td>150.0</td>\n",
       "      <td>3433.0</td>\n",
       "      <td>12.0</td>\n",
       "      <td>70</td>\n",
       "      <td>US</td>\n",
       "    </tr>\n",
       "    <tr>\n",
       "      <th>4</th>\n",
       "      <td>Ford Torino</td>\n",
       "      <td>17.0</td>\n",
       "      <td>8</td>\n",
       "      <td>302.0</td>\n",
       "      <td>140.0</td>\n",
       "      <td>3449.0</td>\n",
       "      <td>10.5</td>\n",
       "      <td>70</td>\n",
       "      <td>US</td>\n",
       "    </tr>\n",
       "  </tbody>\n",
       "</table>\n",
       "</div>"
      ],
      "text/plain": [
       "                         car   mpg  cylinders  displacement  horsepower  \\\n",
       "0  Chevrolet Chevelle Malibu  18.0          8         307.0       130.0   \n",
       "1          Buick Skylark 320  15.0          8         350.0       165.0   \n",
       "2         Plymouth Satellite  18.0          8         318.0       150.0   \n",
       "3              AMC Rebel SST  16.0          8         304.0       150.0   \n",
       "4                Ford Torino  17.0          8         302.0       140.0   \n",
       "\n",
       "   weight  acceleration  model origin  \n",
       "0  3504.0          12.0     70     US  \n",
       "1  3693.0          11.5     70     US  \n",
       "2  3436.0          11.0     70     US  \n",
       "3  3433.0          12.0     70     US  \n",
       "4  3449.0          10.5     70     US  "
      ]
     },
     "execution_count": 17,
     "metadata": {},
     "output_type": "execute_result"
    }
   ],
   "source": [
    "df.head()"
   ]
  },
  {
   "cell_type": "code",
   "execution_count": 18,
   "metadata": {},
   "outputs": [
    {
     "data": {
      "text/html": [
       "<div>\n",
       "<style scoped>\n",
       "    .dataframe tbody tr th:only-of-type {\n",
       "        vertical-align: middle;\n",
       "    }\n",
       "\n",
       "    .dataframe tbody tr th {\n",
       "        vertical-align: top;\n",
       "    }\n",
       "\n",
       "    .dataframe thead th {\n",
       "        text-align: right;\n",
       "    }\n",
       "</style>\n",
       "<table border=\"1\" class=\"dataframe\">\n",
       "  <thead>\n",
       "    <tr style=\"text-align: right;\">\n",
       "      <th></th>\n",
       "      <th>car</th>\n",
       "      <th>mpg</th>\n",
       "      <th>cylinders</th>\n",
       "      <th>displacement</th>\n",
       "      <th>horsepower</th>\n",
       "      <th>weight</th>\n",
       "      <th>acceleration</th>\n",
       "      <th>model</th>\n",
       "      <th>origin</th>\n",
       "    </tr>\n",
       "  </thead>\n",
       "  <tbody>\n",
       "    <tr>\n",
       "      <th>0</th>\n",
       "      <td>Chevrolet Chevelle Malibu</td>\n",
       "      <td>18.0</td>\n",
       "      <td>8</td>\n",
       "      <td>307.0</td>\n",
       "      <td>130.0</td>\n",
       "      <td>3504.0</td>\n",
       "      <td>12.0</td>\n",
       "      <td>70</td>\n",
       "      <td>US</td>\n",
       "    </tr>\n",
       "    <tr>\n",
       "      <th>1</th>\n",
       "      <td>Buick Skylark 320</td>\n",
       "      <td>15.0</td>\n",
       "      <td>8</td>\n",
       "      <td>350.0</td>\n",
       "      <td>165.0</td>\n",
       "      <td>3693.0</td>\n",
       "      <td>11.5</td>\n",
       "      <td>70</td>\n",
       "      <td>US</td>\n",
       "    </tr>\n",
       "    <tr>\n",
       "      <th>2</th>\n",
       "      <td>Plymouth Satellite</td>\n",
       "      <td>18.0</td>\n",
       "      <td>8</td>\n",
       "      <td>318.0</td>\n",
       "      <td>150.0</td>\n",
       "      <td>3436.0</td>\n",
       "      <td>11.0</td>\n",
       "      <td>70</td>\n",
       "      <td>US</td>\n",
       "    </tr>\n",
       "    <tr>\n",
       "      <th>3</th>\n",
       "      <td>AMC Rebel SST</td>\n",
       "      <td>16.0</td>\n",
       "      <td>8</td>\n",
       "      <td>304.0</td>\n",
       "      <td>150.0</td>\n",
       "      <td>3433.0</td>\n",
       "      <td>12.0</td>\n",
       "      <td>70</td>\n",
       "      <td>US</td>\n",
       "    </tr>\n",
       "    <tr>\n",
       "      <th>4</th>\n",
       "      <td>Ford Torino</td>\n",
       "      <td>17.0</td>\n",
       "      <td>8</td>\n",
       "      <td>302.0</td>\n",
       "      <td>140.0</td>\n",
       "      <td>3449.0</td>\n",
       "      <td>10.5</td>\n",
       "      <td>70</td>\n",
       "      <td>US</td>\n",
       "    </tr>\n",
       "  </tbody>\n",
       "</table>\n",
       "</div>"
      ],
      "text/plain": [
       "                         car   mpg  cylinders  displacement  horsepower  \\\n",
       "0  Chevrolet Chevelle Malibu  18.0          8         307.0       130.0   \n",
       "1          Buick Skylark 320  15.0          8         350.0       165.0   \n",
       "2         Plymouth Satellite  18.0          8         318.0       150.0   \n",
       "3              AMC Rebel SST  16.0          8         304.0       150.0   \n",
       "4                Ford Torino  17.0          8         302.0       140.0   \n",
       "\n",
       "   weight  acceleration  model origin  \n",
       "0  3504.0          12.0     70     US  \n",
       "1  3693.0          11.5     70     US  \n",
       "2  3436.0          11.0     70     US  \n",
       "3  3433.0          12.0     70     US  \n",
       "4  3449.0          10.5     70     US  "
      ]
     },
     "execution_count": 18,
     "metadata": {},
     "output_type": "execute_result"
    }
   ],
   "source": [
    "df.head()"
   ]
  },
  {
   "cell_type": "code",
   "execution_count": 42,
   "metadata": {},
   "outputs": [
    {
     "data": {
      "application/vnd.plotly.v1+json": {
       "config": {
        "plotlyServerURL": "https://plot.ly"
       },
       "data": [
        {
         "hovertemplate": "origin=US<br>horsepower=%{x}<br>mpg=%{y}<br>cylinders=%{text}<extra></extra>",
         "legendgroup": "US",
         "marker": {
          "color": "#636efa",
          "opacity": 0.75,
          "symbol": "circle"
         },
         "mode": "markers+text",
         "name": "US",
         "opacity": 0.75,
         "orientation": "v",
         "showlegend": true,
         "text": [
          "8",
          "8",
          "8",
          "8",
          "8",
          "8",
          "8",
          "8",
          "8",
          "8",
          "8",
          "8",
          "8",
          "8",
          "8",
          "8",
          "8",
          "8",
          "8",
          "6",
          "6",
          "6",
          "6",
          "8",
          "8",
          "8",
          "8",
          "4",
          "4",
          "6",
          "6",
          "6",
          "6",
          "6",
          "8",
          "8",
          "8",
          "8",
          "8",
          "8",
          "8",
          "6",
          "4",
          "6",
          "6",
          "4",
          "4",
          "4",
          "4",
          "4",
          "8",
          "8",
          "8",
          "8",
          "8",
          "8",
          "8",
          "8",
          "8",
          "8",
          "8",
          "8",
          "8",
          "4",
          "4",
          "8",
          "8",
          "8",
          "8",
          "8",
          "8",
          "8",
          "8",
          "8",
          "8",
          "8",
          "8",
          "6",
          "6",
          "6",
          "6",
          "6",
          "8",
          "8",
          "8",
          "8",
          "6",
          "4",
          "4",
          "6",
          "8",
          "8",
          "8",
          "8",
          "6",
          "6",
          "6",
          "6",
          "4",
          "4",
          "6",
          "6",
          "6",
          "8",
          "8",
          "8",
          "8",
          "8",
          "4",
          "6",
          "6",
          "6",
          "6",
          "8",
          "8",
          "8",
          "8",
          "6",
          "6",
          "6",
          "6",
          "6",
          "8",
          "8",
          "4",
          "6",
          "4",
          "6",
          "6",
          "4",
          "4",
          "8",
          "8",
          "8",
          "8",
          "6",
          "6",
          "6",
          "6",
          "4",
          "4",
          "6",
          "6",
          "6",
          "6",
          "4",
          "8",
          "8",
          "8",
          "8",
          "8",
          "4",
          "4",
          "8",
          "8",
          "8",
          "8",
          "6",
          "6",
          "6",
          "6",
          "8",
          "8",
          "8",
          "8",
          "4",
          "4",
          "4",
          "4",
          "4",
          "8",
          "8",
          "8",
          "6",
          "6",
          "6",
          "4",
          "6",
          "6",
          "6",
          "6",
          "6",
          "6",
          "8",
          "6",
          "8",
          "8",
          "4",
          "4",
          "4",
          "4",
          "6",
          "6",
          "4",
          "6",
          "6",
          "8",
          "8",
          "8",
          "8",
          "8",
          "8",
          "8",
          "8",
          "4",
          "4",
          "8",
          "8",
          "4",
          "4",
          "4",
          "6",
          "6",
          "4",
          "4",
          "4",
          "4",
          "4",
          "6",
          "4",
          "4",
          "4",
          "4",
          "4",
          "6",
          "4",
          "4",
          "4",
          "4",
          "4",
          "6",
          "8",
          "6",
          "6",
          "4",
          "4",
          "4",
          "4",
          "4",
          "4",
          "4",
          "4",
          "4",
          "4",
          "6",
          "6",
          "4",
          "6",
          "4",
          "4",
          "4",
          "4",
          "4",
          "4"
         ],
         "textposition": "top right",
         "type": "scatter",
         "x": [
          130,
          165,
          150,
          150,
          140,
          198,
          220,
          215,
          225,
          190,
          165,
          153,
          175,
          175,
          170,
          160,
          140,
          150,
          225,
          95,
          97,
          85,
          90,
          215,
          200,
          210,
          193,
          90,
          null,
          100,
          105,
          100,
          88,
          100,
          165,
          175,
          153,
          150,
          180,
          170,
          175,
          110,
          72,
          100,
          88,
          86,
          70,
          80,
          90,
          86,
          165,
          175,
          150,
          153,
          150,
          208,
          155,
          160,
          190,
          150,
          130,
          140,
          150,
          86,
          80,
          175,
          150,
          145,
          137,
          150,
          198,
          150,
          158,
          150,
          215,
          225,
          175,
          105,
          100,
          100,
          88,
          95,
          150,
          167,
          170,
          180,
          100,
          72,
          85,
          107,
          145,
          230,
          150,
          180,
          95,
          null,
          100,
          100,
          80,
          75,
          100,
          110,
          105,
          140,
          150,
          150,
          140,
          150,
          75,
          95,
          105,
          72,
          72,
          170,
          145,
          150,
          148,
          110,
          105,
          110,
          95,
          110,
          110,
          129,
          83,
          100,
          78,
          97,
          90,
          92,
          79,
          140,
          150,
          120,
          152,
          100,
          105,
          81,
          90,
          52,
          60,
          100,
          78,
          110,
          95,
          72,
          150,
          180,
          145,
          130,
          150,
          80,
          96,
          145,
          110,
          145,
          130,
          110,
          105,
          100,
          98,
          180,
          170,
          190,
          149,
          88,
          89,
          63,
          83,
          66,
          110,
          140,
          139,
          105,
          95,
          85,
          88,
          100,
          90,
          105,
          85,
          110,
          120,
          145,
          165,
          139,
          140,
          68,
          75,
          105,
          85,
          115,
          85,
          88,
          90,
          110,
          130,
          129,
          138,
          135,
          155,
          142,
          125,
          150,
          80,
          80,
          125,
          90,
          70,
          70,
          90,
          115,
          115,
          90,
          70,
          90,
          88,
          90,
          90,
          105,
          null,
          84,
          84,
          92,
          110,
          84,
          64,
          63,
          65,
          65,
          110,
          105,
          88,
          85,
          88,
          88,
          88,
          85,
          84,
          90,
          92,
          null,
          63,
          70,
          110,
          85,
          92,
          112,
          84,
          90,
          86,
          84,
          79,
          82
         ],
         "xaxis": "x",
         "y": [
          18,
          15,
          18,
          16,
          17,
          15,
          14,
          14,
          14,
          15,
          null,
          null,
          null,
          null,
          15,
          14,
          null,
          15,
          14,
          22,
          18,
          21,
          21,
          10,
          10,
          11,
          9,
          28,
          25,
          19,
          16,
          17,
          19,
          18,
          14,
          14,
          14,
          14,
          12,
          13,
          13,
          18,
          22,
          19,
          18,
          23,
          26,
          25,
          20,
          21,
          13,
          14,
          15,
          14,
          17,
          11,
          13,
          12,
          13,
          15,
          13,
          13,
          14,
          22,
          28,
          13,
          14,
          13,
          14,
          15,
          12,
          13,
          13,
          14,
          13,
          12,
          13,
          18,
          16,
          18,
          18,
          23,
          11,
          12,
          13,
          12,
          18,
          21,
          19,
          21,
          15,
          16,
          15,
          11,
          20,
          21,
          19,
          15,
          26,
          25,
          16,
          16,
          18,
          16,
          13,
          14,
          14,
          14,
          28,
          19,
          18,
          15,
          15,
          16,
          15,
          16,
          14,
          17,
          16,
          15,
          18,
          21,
          20,
          13,
          23,
          20,
          23,
          18,
          19,
          25,
          26,
          17.5,
          16,
          15.5,
          14.5,
          22,
          22,
          24,
          22.5,
          29,
          24.5,
          20,
          18,
          18.5,
          17.5,
          26.5,
          13,
          16.5,
          13,
          13,
          13,
          30,
          25.5,
          17.5,
          17,
          15.5,
          15,
          17.5,
          20.5,
          19,
          18.5,
          16,
          15.5,
          15.5,
          16,
          24.5,
          25.5,
          30.5,
          33.5,
          36.1,
          19.9,
          19.4,
          20.2,
          19.2,
          20.5,
          20.2,
          25.1,
          20.5,
          19.4,
          20.6,
          20.8,
          18.6,
          18.1,
          19.2,
          17.7,
          18.1,
          17.5,
          30,
          30.9,
          23.2,
          23.8,
          21.5,
          19.8,
          22.3,
          20.2,
          20.6,
          17,
          17.6,
          16.5,
          18.2,
          16.9,
          15.5,
          19.2,
          18.5,
          35.7,
          27.4,
          23,
          23.9,
          34.2,
          34.5,
          28.4,
          28.8,
          26.8,
          33.5,
          32.1,
          28,
          26.4,
          24.3,
          19.1,
          27.9,
          23.6,
          27.2,
          26.6,
          25.8,
          23.5,
          30,
          39,
          34.7,
          34.4,
          29.9,
          22.4,
          26.6,
          20.2,
          17.6,
          28,
          27,
          34,
          31,
          29,
          27,
          24,
          23,
          38,
          36,
          25,
          38,
          26,
          22,
          36,
          27,
          27,
          32,
          28,
          31
         ],
         "yaxis": "y"
        },
        {
         "hovertemplate": "origin=Europe<br>horsepower=%{x}<br>mpg=%{y}<br>cylinders=%{text}<extra></extra>",
         "legendgroup": "Europe",
         "marker": {
          "color": "#EF553B",
          "opacity": 0.75,
          "symbol": "circle"
         },
         "mode": "markers+text",
         "name": "Europe",
         "opacity": 0.75,
         "orientation": "v",
         "showlegend": true,
         "text": [
          "4",
          "4",
          "4",
          "4",
          "4",
          "4",
          "4",
          "4",
          "4",
          "4",
          "4",
          "4",
          "4",
          "4",
          "4",
          "4",
          "4",
          "4",
          "4",
          "4",
          "4",
          "4",
          "4",
          "4",
          "4",
          "4",
          "4",
          "4",
          "4",
          "4",
          "4",
          "4",
          "4",
          "4",
          "4",
          "4",
          "4",
          "4",
          "4",
          "4",
          "4",
          "4",
          "6",
          "4",
          "4",
          "4",
          "4",
          "4",
          "5",
          "6",
          "4",
          "6",
          "4",
          "4",
          "5",
          "4",
          "4",
          "4",
          "4",
          "4",
          "4",
          "5",
          "4",
          "4",
          "4",
          "4",
          "4",
          "4",
          "4",
          "4",
          "6",
          "4",
          "4"
         ],
         "textposition": "top right",
         "type": "scatter",
         "x": [
          115,
          46,
          87,
          90,
          95,
          113,
          48,
          90,
          70,
          76,
          60,
          54,
          112,
          76,
          87,
          69,
          46,
          90,
          49,
          75,
          91,
          112,
          110,
          83,
          67,
          78,
          75,
          75,
          67,
          71,
          70,
          95,
          88,
          98,
          115,
          86,
          81,
          83,
          70,
          71,
          102,
          88,
          120,
          58,
          78,
          78,
          110,
          48,
          103,
          125,
          115,
          133,
          71,
          71,
          77,
          71,
          69,
          76,
          78,
          48,
          48,
          67,
          67,
          null,
          62,
          88,
          74,
          null,
          80,
          110,
          76,
          74,
          52
         ],
         "xaxis": "x",
         "y": [
          null,
          26,
          25,
          24,
          25,
          26,
          null,
          28,
          30,
          30,
          27,
          23,
          18,
          22,
          21,
          26,
          26,
          26,
          29,
          24,
          20,
          19,
          24,
          29,
          26,
          26,
          24,
          26,
          31,
          25,
          29,
          23,
          23,
          22,
          25,
          28,
          25,
          27,
          29,
          29.5,
          20,
          19,
          16.5,
          36,
          29,
          30.5,
          21.5,
          43.1,
          20.3,
          17,
          21.6,
          16.2,
          31.5,
          31.9,
          25.4,
          27.2,
          37.3,
          41.5,
          34.3,
          44.3,
          43.4,
          36.4,
          30,
          40.9,
          29.8,
          35,
          33,
          34.5,
          28.1,
          null,
          30.7,
          36,
          44
         ],
         "yaxis": "y"
        },
        {
         "hovertemplate": "origin=Japan<br>horsepower=%{x}<br>mpg=%{y}<br>cylinders=%{text}<extra></extra>",
         "legendgroup": "Japan",
         "marker": {
          "color": "#00cc96",
          "opacity": 0.75,
          "symbol": "circle"
         },
         "mode": "markers+text",
         "name": "Japan",
         "opacity": 0.75,
         "orientation": "v",
         "showlegend": true,
         "text": [
          "4",
          "4",
          "4",
          "4",
          "4",
          "4",
          "4",
          "3",
          "4",
          "4",
          "4",
          "4",
          "4",
          "3",
          "6",
          "4",
          "4",
          "4",
          "4",
          "4",
          "4",
          "4",
          "4",
          "4",
          "4",
          "4",
          "4",
          "4",
          "6",
          "4",
          "4",
          "4",
          "4",
          "6",
          "3",
          "4",
          "4",
          "4",
          "4",
          "4",
          "4",
          "4",
          "4",
          "4",
          "4",
          "4",
          "4",
          "4",
          "4",
          "4",
          "4",
          "4",
          "4",
          "4",
          "4",
          "6",
          "3",
          "4",
          "4",
          "4",
          "4",
          "4",
          "4",
          "4",
          "4",
          "4",
          "4",
          "4",
          "6",
          "6",
          "4",
          "4",
          "4",
          "4",
          "4",
          "4",
          "4",
          "4",
          "4"
         ],
         "textposition": "top right",
         "type": "scatter",
         "x": [
          95,
          88,
          88,
          95,
          65,
          69,
          95,
          97,
          92,
          97,
          88,
          88,
          94,
          90,
          122,
          67,
          65,
          52,
          61,
          97,
          93,
          75,
          96,
          97,
          53,
          53,
          70,
          75,
          108,
          68,
          70,
          75,
          67,
          97,
          110,
          52,
          70,
          60,
          95,
          97,
          95,
          97,
          68,
          65,
          65,
          60,
          65,
          90,
          75,
          92,
          75,
          65,
          65,
          67,
          67,
          132,
          100,
          72,
          58,
          60,
          67,
          65,
          62,
          68,
          75,
          75,
          100,
          74,
          116,
          120,
          68,
          68,
          88,
          75,
          70,
          67,
          67,
          67,
          96
         ],
         "xaxis": "x",
         "y": [
          24,
          27,
          27,
          25,
          31,
          35,
          24,
          19,
          28,
          23,
          27,
          20,
          22,
          18,
          20,
          31,
          32,
          31,
          32,
          24,
          26,
          29,
          24,
          24,
          33,
          33,
          32,
          28,
          19,
          31.5,
          33.5,
          26,
          30,
          22,
          21.5,
          32.8,
          39.4,
          36.1,
          27.5,
          27.2,
          21.1,
          23.9,
          29.5,
          34.1,
          31.8,
          38.1,
          37.2,
          29.8,
          31.3,
          37,
          32.2,
          46.6,
          40.8,
          44.6,
          33.8,
          32.7,
          23.7,
          32.4,
          39.1,
          35.1,
          32.3,
          37,
          37.7,
          34.1,
          33.7,
          32.4,
          32.9,
          31.6,
          25.4,
          24.2,
          37,
          31,
          36,
          36,
          34,
          38,
          32,
          38,
          32
         ],
         "yaxis": "y"
        }
       ],
       "layout": {
        "autosize": false,
        "height": 800,
        "legend": {
         "title": {
          "text": "origin"
         },
         "tracegroupgap": 0
        },
        "template": {
         "data": {
          "bar": [
           {
            "error_x": {
             "color": "#2a3f5f"
            },
            "error_y": {
             "color": "#2a3f5f"
            },
            "marker": {
             "line": {
              "color": "#E5ECF6",
              "width": 0.5
             },
             "pattern": {
              "fillmode": "overlay",
              "size": 10,
              "solidity": 0.2
             }
            },
            "type": "bar"
           }
          ],
          "barpolar": [
           {
            "marker": {
             "line": {
              "color": "#E5ECF6",
              "width": 0.5
             },
             "pattern": {
              "fillmode": "overlay",
              "size": 10,
              "solidity": 0.2
             }
            },
            "type": "barpolar"
           }
          ],
          "carpet": [
           {
            "aaxis": {
             "endlinecolor": "#2a3f5f",
             "gridcolor": "white",
             "linecolor": "white",
             "minorgridcolor": "white",
             "startlinecolor": "#2a3f5f"
            },
            "baxis": {
             "endlinecolor": "#2a3f5f",
             "gridcolor": "white",
             "linecolor": "white",
             "minorgridcolor": "white",
             "startlinecolor": "#2a3f5f"
            },
            "type": "carpet"
           }
          ],
          "choropleth": [
           {
            "colorbar": {
             "outlinewidth": 0,
             "ticks": ""
            },
            "type": "choropleth"
           }
          ],
          "contour": [
           {
            "colorbar": {
             "outlinewidth": 0,
             "ticks": ""
            },
            "colorscale": [
             [
              0,
              "#0d0887"
             ],
             [
              0.1111111111111111,
              "#46039f"
             ],
             [
              0.2222222222222222,
              "#7201a8"
             ],
             [
              0.3333333333333333,
              "#9c179e"
             ],
             [
              0.4444444444444444,
              "#bd3786"
             ],
             [
              0.5555555555555556,
              "#d8576b"
             ],
             [
              0.6666666666666666,
              "#ed7953"
             ],
             [
              0.7777777777777778,
              "#fb9f3a"
             ],
             [
              0.8888888888888888,
              "#fdca26"
             ],
             [
              1,
              "#f0f921"
             ]
            ],
            "type": "contour"
           }
          ],
          "contourcarpet": [
           {
            "colorbar": {
             "outlinewidth": 0,
             "ticks": ""
            },
            "type": "contourcarpet"
           }
          ],
          "heatmap": [
           {
            "colorbar": {
             "outlinewidth": 0,
             "ticks": ""
            },
            "colorscale": [
             [
              0,
              "#0d0887"
             ],
             [
              0.1111111111111111,
              "#46039f"
             ],
             [
              0.2222222222222222,
              "#7201a8"
             ],
             [
              0.3333333333333333,
              "#9c179e"
             ],
             [
              0.4444444444444444,
              "#bd3786"
             ],
             [
              0.5555555555555556,
              "#d8576b"
             ],
             [
              0.6666666666666666,
              "#ed7953"
             ],
             [
              0.7777777777777778,
              "#fb9f3a"
             ],
             [
              0.8888888888888888,
              "#fdca26"
             ],
             [
              1,
              "#f0f921"
             ]
            ],
            "type": "heatmap"
           }
          ],
          "heatmapgl": [
           {
            "colorbar": {
             "outlinewidth": 0,
             "ticks": ""
            },
            "colorscale": [
             [
              0,
              "#0d0887"
             ],
             [
              0.1111111111111111,
              "#46039f"
             ],
             [
              0.2222222222222222,
              "#7201a8"
             ],
             [
              0.3333333333333333,
              "#9c179e"
             ],
             [
              0.4444444444444444,
              "#bd3786"
             ],
             [
              0.5555555555555556,
              "#d8576b"
             ],
             [
              0.6666666666666666,
              "#ed7953"
             ],
             [
              0.7777777777777778,
              "#fb9f3a"
             ],
             [
              0.8888888888888888,
              "#fdca26"
             ],
             [
              1,
              "#f0f921"
             ]
            ],
            "type": "heatmapgl"
           }
          ],
          "histogram": [
           {
            "marker": {
             "pattern": {
              "fillmode": "overlay",
              "size": 10,
              "solidity": 0.2
             }
            },
            "type": "histogram"
           }
          ],
          "histogram2d": [
           {
            "colorbar": {
             "outlinewidth": 0,
             "ticks": ""
            },
            "colorscale": [
             [
              0,
              "#0d0887"
             ],
             [
              0.1111111111111111,
              "#46039f"
             ],
             [
              0.2222222222222222,
              "#7201a8"
             ],
             [
              0.3333333333333333,
              "#9c179e"
             ],
             [
              0.4444444444444444,
              "#bd3786"
             ],
             [
              0.5555555555555556,
              "#d8576b"
             ],
             [
              0.6666666666666666,
              "#ed7953"
             ],
             [
              0.7777777777777778,
              "#fb9f3a"
             ],
             [
              0.8888888888888888,
              "#fdca26"
             ],
             [
              1,
              "#f0f921"
             ]
            ],
            "type": "histogram2d"
           }
          ],
          "histogram2dcontour": [
           {
            "colorbar": {
             "outlinewidth": 0,
             "ticks": ""
            },
            "colorscale": [
             [
              0,
              "#0d0887"
             ],
             [
              0.1111111111111111,
              "#46039f"
             ],
             [
              0.2222222222222222,
              "#7201a8"
             ],
             [
              0.3333333333333333,
              "#9c179e"
             ],
             [
              0.4444444444444444,
              "#bd3786"
             ],
             [
              0.5555555555555556,
              "#d8576b"
             ],
             [
              0.6666666666666666,
              "#ed7953"
             ],
             [
              0.7777777777777778,
              "#fb9f3a"
             ],
             [
              0.8888888888888888,
              "#fdca26"
             ],
             [
              1,
              "#f0f921"
             ]
            ],
            "type": "histogram2dcontour"
           }
          ],
          "mesh3d": [
           {
            "colorbar": {
             "outlinewidth": 0,
             "ticks": ""
            },
            "type": "mesh3d"
           }
          ],
          "parcoords": [
           {
            "line": {
             "colorbar": {
              "outlinewidth": 0,
              "ticks": ""
             }
            },
            "type": "parcoords"
           }
          ],
          "pie": [
           {
            "automargin": true,
            "type": "pie"
           }
          ],
          "scatter": [
           {
            "marker": {
             "colorbar": {
              "outlinewidth": 0,
              "ticks": ""
             }
            },
            "type": "scatter"
           }
          ],
          "scatter3d": [
           {
            "line": {
             "colorbar": {
              "outlinewidth": 0,
              "ticks": ""
             }
            },
            "marker": {
             "colorbar": {
              "outlinewidth": 0,
              "ticks": ""
             }
            },
            "type": "scatter3d"
           }
          ],
          "scattercarpet": [
           {
            "marker": {
             "colorbar": {
              "outlinewidth": 0,
              "ticks": ""
             }
            },
            "type": "scattercarpet"
           }
          ],
          "scattergeo": [
           {
            "marker": {
             "colorbar": {
              "outlinewidth": 0,
              "ticks": ""
             }
            },
            "type": "scattergeo"
           }
          ],
          "scattergl": [
           {
            "marker": {
             "colorbar": {
              "outlinewidth": 0,
              "ticks": ""
             }
            },
            "type": "scattergl"
           }
          ],
          "scattermapbox": [
           {
            "marker": {
             "colorbar": {
              "outlinewidth": 0,
              "ticks": ""
             }
            },
            "type": "scattermapbox"
           }
          ],
          "scatterpolar": [
           {
            "marker": {
             "colorbar": {
              "outlinewidth": 0,
              "ticks": ""
             }
            },
            "type": "scatterpolar"
           }
          ],
          "scatterpolargl": [
           {
            "marker": {
             "colorbar": {
              "outlinewidth": 0,
              "ticks": ""
             }
            },
            "type": "scatterpolargl"
           }
          ],
          "scatterternary": [
           {
            "marker": {
             "colorbar": {
              "outlinewidth": 0,
              "ticks": ""
             }
            },
            "type": "scatterternary"
           }
          ],
          "surface": [
           {
            "colorbar": {
             "outlinewidth": 0,
             "ticks": ""
            },
            "colorscale": [
             [
              0,
              "#0d0887"
             ],
             [
              0.1111111111111111,
              "#46039f"
             ],
             [
              0.2222222222222222,
              "#7201a8"
             ],
             [
              0.3333333333333333,
              "#9c179e"
             ],
             [
              0.4444444444444444,
              "#bd3786"
             ],
             [
              0.5555555555555556,
              "#d8576b"
             ],
             [
              0.6666666666666666,
              "#ed7953"
             ],
             [
              0.7777777777777778,
              "#fb9f3a"
             ],
             [
              0.8888888888888888,
              "#fdca26"
             ],
             [
              1,
              "#f0f921"
             ]
            ],
            "type": "surface"
           }
          ],
          "table": [
           {
            "cells": {
             "fill": {
              "color": "#EBF0F8"
             },
             "line": {
              "color": "white"
             }
            },
            "header": {
             "fill": {
              "color": "#C8D4E3"
             },
             "line": {
              "color": "white"
             }
            },
            "type": "table"
           }
          ]
         },
         "layout": {
          "annotationdefaults": {
           "arrowcolor": "#2a3f5f",
           "arrowhead": 0,
           "arrowwidth": 1
          },
          "autotypenumbers": "strict",
          "coloraxis": {
           "colorbar": {
            "outlinewidth": 0,
            "ticks": ""
           }
          },
          "colorscale": {
           "diverging": [
            [
             0,
             "#8e0152"
            ],
            [
             0.1,
             "#c51b7d"
            ],
            [
             0.2,
             "#de77ae"
            ],
            [
             0.3,
             "#f1b6da"
            ],
            [
             0.4,
             "#fde0ef"
            ],
            [
             0.5,
             "#f7f7f7"
            ],
            [
             0.6,
             "#e6f5d0"
            ],
            [
             0.7,
             "#b8e186"
            ],
            [
             0.8,
             "#7fbc41"
            ],
            [
             0.9,
             "#4d9221"
            ],
            [
             1,
             "#276419"
            ]
           ],
           "sequential": [
            [
             0,
             "#0d0887"
            ],
            [
             0.1111111111111111,
             "#46039f"
            ],
            [
             0.2222222222222222,
             "#7201a8"
            ],
            [
             0.3333333333333333,
             "#9c179e"
            ],
            [
             0.4444444444444444,
             "#bd3786"
            ],
            [
             0.5555555555555556,
             "#d8576b"
            ],
            [
             0.6666666666666666,
             "#ed7953"
            ],
            [
             0.7777777777777778,
             "#fb9f3a"
            ],
            [
             0.8888888888888888,
             "#fdca26"
            ],
            [
             1,
             "#f0f921"
            ]
           ],
           "sequentialminus": [
            [
             0,
             "#0d0887"
            ],
            [
             0.1111111111111111,
             "#46039f"
            ],
            [
             0.2222222222222222,
             "#7201a8"
            ],
            [
             0.3333333333333333,
             "#9c179e"
            ],
            [
             0.4444444444444444,
             "#bd3786"
            ],
            [
             0.5555555555555556,
             "#d8576b"
            ],
            [
             0.6666666666666666,
             "#ed7953"
            ],
            [
             0.7777777777777778,
             "#fb9f3a"
            ],
            [
             0.8888888888888888,
             "#fdca26"
            ],
            [
             1,
             "#f0f921"
            ]
           ]
          },
          "colorway": [
           "#636efa",
           "#EF553B",
           "#00cc96",
           "#ab63fa",
           "#FFA15A",
           "#19d3f3",
           "#FF6692",
           "#B6E880",
           "#FF97FF",
           "#FECB52"
          ],
          "font": {
           "color": "#2a3f5f"
          },
          "geo": {
           "bgcolor": "white",
           "lakecolor": "white",
           "landcolor": "#E5ECF6",
           "showlakes": true,
           "showland": true,
           "subunitcolor": "white"
          },
          "hoverlabel": {
           "align": "left"
          },
          "hovermode": "closest",
          "mapbox": {
           "style": "light"
          },
          "paper_bgcolor": "white",
          "plot_bgcolor": "#E5ECF6",
          "polar": {
           "angularaxis": {
            "gridcolor": "white",
            "linecolor": "white",
            "ticks": ""
           },
           "bgcolor": "#E5ECF6",
           "radialaxis": {
            "gridcolor": "white",
            "linecolor": "white",
            "ticks": ""
           }
          },
          "scene": {
           "xaxis": {
            "backgroundcolor": "#E5ECF6",
            "gridcolor": "white",
            "gridwidth": 2,
            "linecolor": "white",
            "showbackground": true,
            "ticks": "",
            "zerolinecolor": "white"
           },
           "yaxis": {
            "backgroundcolor": "#E5ECF6",
            "gridcolor": "white",
            "gridwidth": 2,
            "linecolor": "white",
            "showbackground": true,
            "ticks": "",
            "zerolinecolor": "white"
           },
           "zaxis": {
            "backgroundcolor": "#E5ECF6",
            "gridcolor": "white",
            "gridwidth": 2,
            "linecolor": "white",
            "showbackground": true,
            "ticks": "",
            "zerolinecolor": "white"
           }
          },
          "shapedefaults": {
           "line": {
            "color": "#2a3f5f"
           }
          },
          "ternary": {
           "aaxis": {
            "gridcolor": "white",
            "linecolor": "white",
            "ticks": ""
           },
           "baxis": {
            "gridcolor": "white",
            "linecolor": "white",
            "ticks": ""
           },
           "bgcolor": "#E5ECF6",
           "caxis": {
            "gridcolor": "white",
            "linecolor": "white",
            "ticks": ""
           }
          },
          "title": {
           "x": 0.05
          },
          "xaxis": {
           "automargin": true,
           "gridcolor": "white",
           "linecolor": "white",
           "ticks": "",
           "title": {
            "standoff": 15
           },
           "zerolinecolor": "white",
           "zerolinewidth": 2
          },
          "yaxis": {
           "automargin": true,
           "gridcolor": "white",
           "linecolor": "white",
           "ticks": "",
           "title": {
            "standoff": 15
           },
           "zerolinecolor": "white",
           "zerolinewidth": 2
          }
         }
        },
        "title": {
         "text": "Vehicle Horsepower vs MPG vs Origin vs # of Cylinders"
        },
        "width": 1000,
        "xaxis": {
         "anchor": "y",
         "domain": [
          0,
          1
         ],
         "tickmode": "array",
         "title": {
          "font": {
           "size": 30
          },
          "text": "Horsepower"
         }
        },
        "yaxis": {
         "anchor": "x",
         "domain": [
          0,
          1
         ],
         "tickmode": "array",
         "title": {
          "font": {
           "size": 30
          },
          "text": "MPG"
         }
        }
       }
      }
     },
     "metadata": {},
     "output_type": "display_data"
    }
   ],
   "source": [
    "# Four dimensions:\n",
    "#    X: horse power\n",
    "#    Y: MPG\n",
    "#    Marker: cylinders\n",
    "#    Color: origin\n",
    "\n",
    "import plotly.express as px\n",
    "\n",
    "fig = px.scatter(df, x=\"horsepower\", y=\"mpg\", text=\"cylinders\", color='origin', opacity=0.75)\n",
    "fig.for_each_trace(lambda t: t.update(opacity=0.75, textposition='top right'))\n",
    "fig.update_layout(\n",
    "    autosize=False,\n",
    "    width=1000,\n",
    "    height=800,\n",
    "    yaxis=dict(\n",
    "        title_text=\"MPG\",\n",
    "        tickmode=\"array\",\n",
    "        titlefont=dict(size=30),\n",
    "    ),\n",
    "    xaxis=dict(\n",
    "        title_text=\"Horsepower\",\n",
    "        tickmode=\"array\",\n",
    "        titlefont=dict(size=30),\n",
    "    )\n",
    ")\n",
    "fig.show()"
   ]
  },
  {
   "cell_type": "code",
   "execution_count": null,
   "metadata": {},
   "outputs": [],
   "source": []
  },
  {
   "cell_type": "code",
   "execution_count": null,
   "metadata": {},
   "outputs": [],
   "source": []
  }
 ],
 "metadata": {
  "interpreter": {
   "hash": "40d3a090f54c6569ab1632332b64b2c03c39dcf918b08424e98f38b5ae0af88f"
  },
  "kernelspec": {
   "display_name": "Python 3.8.8 64-bit ('base': conda)",
   "language": "python",
   "name": "python3"
  },
  "language_info": {
   "codemirror_mode": {
    "name": "ipython",
    "version": 3
   },
   "file_extension": ".py",
   "mimetype": "text/x-python",
   "name": "python",
   "nbconvert_exporter": "python",
   "pygments_lexer": "ipython3",
   "version": "3.8.8"
  },
  "orig_nbformat": 4
 },
 "nbformat": 4,
 "nbformat_minor": 2
}
